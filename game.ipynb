{
 "cells": [
  {
   "cell_type": "code",
   "execution_count": 1,
   "id": "3f5ee1fc",
   "metadata": {},
   "outputs": [],
   "source": [
    "import os\n",
    "import numpy as np"
   ]
  },
  {
   "cell_type": "code",
   "execution_count": 2,
   "id": "c901ea21",
   "metadata": {},
   "outputs": [],
   "source": [
    "def create_table(size):\n",
    "    if is_even(size):\n",
    "        return [[\"0\"]*(size) for i in range(size)]\n",
    "    else:\n",
    "        return \"table size should be uneven\"\n",
    "    \n",
    "    \n",
    "def is_even(num):\n",
    "    if (num % 2) == 0:\n",
    "        #print(\"{0} is Even number\". format(num))\n",
    "        return False\n",
    "    else:\n",
    "        #print(\"{0} is Odd number\". format(num))\n",
    "        return True\n",
    "\n",
    "    \n",
    "def score(word):\n",
    "    return len(word)*len(word)\n",
    "\n",
    "\n",
    "def insert_first_word(table, word, orientation='horizontal', misalignment=0):\n",
    "    middle_row = int(np.floor(np.shape(table)[0] / 2)) + misalignment\n",
    "    j = 0\n",
    "    if orientation == 'horizontal':\n",
    "        for i in word:\n",
    "            table[middle_row][j] = i\n",
    "            j += 1\n",
    "    elif orientation == 'vertical':\n",
    "        for i in word:\n",
    "            table[j][middle_row] = i\n",
    "            j += 1\n",
    "    else:\n",
    "        sys.exit(\"Bad word orientation to put inside the table! Should be 'horizontal' or 'vertical'.\")\n",
    "    return table\n",
    "\n",
    "\n",
    "def remove_nones_from_list(lst):\n",
    "    return list(filter(None, lst))\n",
    "\n",
    "\n",
    "def join_two_lists(lst1, lst2):\n",
    "    return [*lst1, *lst2]\n",
    "\n",
    "\n",
    "def remove_duplicates_from_2d_list(lst):\n",
    "    newlist = []\n",
    "\n",
    "    for i in joined_list:\n",
    "        if i in newlist:\n",
    "            continue\n",
    "        else:\n",
    "            newlist.append(i)\n",
    "\n",
    "    return(newlist)\n",
    "\n",
    "def tab(table, y, x):\n",
    "    size = np.shape(table)[0]\n",
    "    if (x < 0) or (y < 0) or (x >= size) or (y >= size):\n",
    "        pass\n",
    "    else:\n",
    "        try:\n",
    "            return [table[y][x], y, x]\n",
    "        except:\n",
    "            pass"
   ]
  },
  {
   "cell_type": "code",
   "execution_count": 3,
   "id": "0c66d7e4",
   "metadata": {},
   "outputs": [],
   "source": [
    "tabela = create_table(5)\n",
    "tabela = insert_first_word(tabela, \"wojna\",) # orientation=\"vertical\")"
   ]
  },
  {
   "cell_type": "code",
   "execution_count": null,
   "id": "38a9aa3e",
   "metadata": {},
   "outputs": [],
   "source": [
    "def find_full_(table):\n",
    "    full = []\n",
    "    size = np.shape(table)[0]\n",
    "    for i in range(size):\n",
    "        for j in range(size):\n",
    "            if table[i][j] != \"0\":\n",
    "                full.append([table[i][j], i, j])\n",
    "        \n",
    "    return full"
   ]
  },
  {
   "cell_type": "code",
   "execution_count": 9,
   "id": "b2884fca",
   "metadata": {},
   "outputs": [],
   "source": [
    "lista2 = []\n",
    "for item in lista:\n",
    "    #print(item, item[1], item[2])\n",
    "    y = item[1]\n",
    "    x = item[2]\n",
    "    lista2.append(tab(tabela, y - 1, x))\n",
    "    lista2.append(tab(tabela, y + 1, x))\n",
    "    lista2.append(tab(tabela, y, x - 1))\n",
    "    lista2.append(tab(tabela, y, x + 1))"
   ]
  },
  {
   "cell_type": "code",
   "execution_count": 12,
   "id": "e6cb12ad",
   "metadata": {},
   "outputs": [
    {
     "data": {
      "text/plain": [
       "[['b', 0, 2],\n",
       " ['a', 1, 2],\n",
       " ['w', 2, 0],\n",
       " ['o', 2, 1],\n",
       " ['j', 2, 2],\n",
       " ['n', 2, 3],\n",
       " ['a', 2, 4],\n",
       " ['k', 3, 2],\n",
       " ['a', 4, 2]]"
      ]
     },
     "execution_count": 12,
     "metadata": {},
     "output_type": "execute_result"
    }
   ],
   "source": [
    "lista"
   ]
  },
  {
   "cell_type": "code",
   "execution_count": 13,
   "id": "fa660aae",
   "metadata": {},
   "outputs": [
    {
     "data": {
      "text/plain": [
       "[None,\n",
       " ['a', 1, 2],\n",
       " ['0', 0, 1],\n",
       " ['0', 0, 3],\n",
       " ['b', 0, 2],\n",
       " ['j', 2, 2],\n",
       " ['0', 1, 1],\n",
       " ['0', 1, 3],\n",
       " ['0', 1, 0],\n",
       " ['0', 3, 0],\n",
       " None,\n",
       " ['o', 2, 1],\n",
       " ['0', 1, 1],\n",
       " ['0', 3, 1],\n",
       " ['w', 2, 0],\n",
       " ['j', 2, 2],\n",
       " ['a', 1, 2],\n",
       " ['k', 3, 2],\n",
       " ['o', 2, 1],\n",
       " ['n', 2, 3],\n",
       " ['0', 1, 3],\n",
       " ['0', 3, 3],\n",
       " ['j', 2, 2],\n",
       " ['a', 2, 4],\n",
       " ['0', 1, 4],\n",
       " ['0', 3, 4],\n",
       " ['n', 2, 3],\n",
       " None,\n",
       " ['j', 2, 2],\n",
       " ['a', 4, 2],\n",
       " ['0', 3, 1],\n",
       " ['0', 3, 3],\n",
       " ['k', 3, 2],\n",
       " None,\n",
       " ['0', 4, 1],\n",
       " ['0', 4, 3]]"
      ]
     },
     "execution_count": 13,
     "metadata": {},
     "output_type": "execute_result"
    }
   ],
   "source": [
    "lista2"
   ]
  },
  {
   "cell_type": "code",
   "execution_count": 14,
   "id": "b5ed523e",
   "metadata": {},
   "outputs": [
    {
     "data": {
      "text/plain": [
       "[['a', 1, 2],\n",
       " ['0', 0, 1],\n",
       " ['0', 0, 3],\n",
       " ['b', 0, 2],\n",
       " ['j', 2, 2],\n",
       " ['0', 1, 1],\n",
       " ['0', 1, 3],\n",
       " ['0', 1, 0],\n",
       " ['0', 3, 0],\n",
       " ['o', 2, 1],\n",
       " ['0', 1, 1],\n",
       " ['0', 3, 1],\n",
       " ['w', 2, 0],\n",
       " ['j', 2, 2],\n",
       " ['a', 1, 2],\n",
       " ['k', 3, 2],\n",
       " ['o', 2, 1],\n",
       " ['n', 2, 3],\n",
       " ['0', 1, 3],\n",
       " ['0', 3, 3],\n",
       " ['j', 2, 2],\n",
       " ['a', 2, 4],\n",
       " ['0', 1, 4],\n",
       " ['0', 3, 4],\n",
       " ['n', 2, 3],\n",
       " ['j', 2, 2],\n",
       " ['a', 4, 2],\n",
       " ['0', 3, 1],\n",
       " ['0', 3, 3],\n",
       " ['k', 3, 2],\n",
       " ['0', 4, 1],\n",
       " ['0', 4, 3]]"
      ]
     },
     "execution_count": 14,
     "metadata": {},
     "output_type": "execute_result"
    }
   ],
   "source": [
    "lista2 = remove_nones_from_list(lista2)\n",
    "lista2"
   ]
  },
  {
   "cell_type": "code",
   "execution_count": null,
   "id": "e10d89a9",
   "metadata": {},
   "outputs": [],
   "source": [
    "lista2 = remove_nones_from_list(lista2)\n",
    "joined = join_two_lists(lista, lista2)\n",
    "joined = remove_duplicates_from_2d_list(joined)"
   ]
  },
  {
   "cell_type": "code",
   "execution_count": null,
   "id": "3ac4ef7c",
   "metadata": {},
   "outputs": [],
   "source": [
    "joined = join_two_lists(lista, lista2)\n",
    "joined = remove_duplicates_from_2d_list(joined)\n",
    "joined"
   ]
  },
  {
   "cell_type": "code",
   "execution_count": null,
   "id": "b4c76c69",
   "metadata": {},
   "outputs": [],
   "source": [
    "tabela"
   ]
  },
  {
   "cell_type": "code",
   "execution_count": null,
   "id": "f6bb0758",
   "metadata": {},
   "outputs": [],
   "source": [
    "tabela[0]"
   ]
  },
  {
   "cell_type": "code",
   "execution_count": null,
   "id": "fe5a0576",
   "metadata": {},
   "outputs": [],
   "source": [
    "for i in joined[:1]:\n",
    "    row = i[1]\n",
    "    col = i[2]\n",
    "    size = np.shape(tabela)[0]\n",
    "    print(i[0], row, col)\n",
    "    \n",
    "        "
   ]
  },
  {
   "cell_type": "code",
   "execution_count": null,
   "id": "69b7c3a3",
   "metadata": {},
   "outputs": [],
   "source": [
    "def t(joint, tab, r, c):\n",
    "    size_ = np.shape(joint)[0]\n",
    "    size = np.shape(tab)[0]\n",
    "    \n",
    "    "
   ]
  },
  {
   "cell_type": "code",
   "execution_count": null,
   "id": "d7996047",
   "metadata": {},
   "outputs": [],
   "source": []
  },
  {
   "cell_type": "code",
   "execution_count": null,
   "id": "d871234e",
   "metadata": {},
   "outputs": [],
   "source": []
  },
  {
   "cell_type": "code",
   "execution_count": null,
   "id": "62107848",
   "metadata": {},
   "outputs": [],
   "source": [
    "def test(table)\n",
    "try:\n",
    "        if (x_left < 0) or (x_left > size):\n",
    "            pass\n",
    "        xr = table[x_left][y]\n",
    "    except IndexError as e:\n",
    "        pass"
   ]
  },
  {
   "cell_type": "code",
   "execution_count": null,
   "id": "c682d571",
   "metadata": {},
   "outputs": [],
   "source": [
    "for index, x in np.ndenumerate(tabela):\n",
    "    print(index, x)"
   ]
  },
  {
   "cell_type": "code",
   "execution_count": null,
   "id": "6027c4c4",
   "metadata": {},
   "outputs": [],
   "source": [
    "index"
   ]
  },
  {
   "cell_type": "code",
   "execution_count": null,
   "id": "a547b992",
   "metadata": {},
   "outputs": [],
   "source": [
    "type(index)"
   ]
  },
  {
   "cell_type": "code",
   "execution_count": null,
   "id": "fa0ebf5c",
   "metadata": {},
   "outputs": [],
   "source": [
    "os.getcwd()"
   ]
  },
  {
   "cell_type": "code",
   "execution_count": null,
   "id": "2b08a494",
   "metadata": {},
   "outputs": [],
   "source": [
    "file_path = os.path.join(\"/home/cielak/Nauka/\", \"fivebyfive\", \"slowa.txt\")"
   ]
  },
  {
   "cell_type": "code",
   "execution_count": null,
   "id": "b9d8d265",
   "metadata": {},
   "outputs": [],
   "source": [
    "with open(file_path) as f:\n",
    "    lines = [line.rstrip() for line in f]"
   ]
  },
  {
   "cell_type": "code",
   "execution_count": null,
   "id": "ed923632",
   "metadata": {},
   "outputs": [],
   "source": [
    "len(lines)"
   ]
  },
  {
   "cell_type": "code",
   "execution_count": null,
   "id": "428bf9ab",
   "metadata": {},
   "outputs": [],
   "source": [
    "tabela = create_table(5)"
   ]
  },
  {
   "cell_type": "code",
   "execution_count": null,
   "id": "ad3a091b",
   "metadata": {},
   "outputs": [],
   "source": []
  },
  {
   "cell_type": "code",
   "execution_count": null,
   "id": "968caad0",
   "metadata": {},
   "outputs": [],
   "source": [
    "tabela[-3][0]"
   ]
  },
  {
   "cell_type": "code",
   "execution_count": null,
   "id": "32e9ef2d",
   "metadata": {},
   "outputs": [],
   "source": [
    "range(5)"
   ]
  },
  {
   "cell_type": "code",
   "execution_count": null,
   "id": "c186c1cd",
   "metadata": {},
   "outputs": [],
   "source": [
    "i = 0\n",
    "j = 0\n",
    "for i,j in range(5):\n",
    "    if tabela[i][j] =="
   ]
  }
 ],
 "metadata": {
  "kernelspec": {
   "display_name": "Python 3",
   "language": "python",
   "name": "python3"
  },
  "language_info": {
   "codemirror_mode": {
    "name": "ipython",
    "version": 3
   },
   "file_extension": ".py",
   "mimetype": "text/x-python",
   "name": "python",
   "nbconvert_exporter": "python",
   "pygments_lexer": "ipython3",
   "version": "3.6.13"
  }
 },
 "nbformat": 4,
 "nbformat_minor": 5
}
