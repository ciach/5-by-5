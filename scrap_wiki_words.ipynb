{
 "cells": [
  {
   "cell_type": "code",
   "execution_count": 5,
   "id": "099b8aaf-ced0-4676-9a9f-90da16f9d361",
   "metadata": {},
   "outputs": [],
   "source": [
    "import requests\n",
    "from bs4 import BeautifulSoup\n",
    "import re\n",
    "import sys\n",
    "from time import sleep"
   ]
  },
  {
   "cell_type": "code",
   "execution_count": 20,
   "id": "15f78966-a49c-4a22-b27b-9bd1ce07a9d1",
   "metadata": {},
   "outputs": [],
   "source": [
    "def f():\n",
    "    words = []\n",
    "    f = 112\n",
    "    a = 0\n",
    "    last_word = \"A-dur\" \n",
    "    try:\n",
    "        while a < f: \n",
    "            #print(a)\n",
    "            item_list = []\n",
    "            URL = \"https://pl.wiktionary.org/w/index.php?title=Kategoria:J%C4%99zyk_polski_-_rzeczowniki_rodzaju_%C5%BCe%C5%84skiego&pagefrom=\" + last_word + \"#mw-pages\"\n",
    "            page = requests.get(URL)\n",
    "            print(page)\n",
    "            soup = BeautifulSoup(page.content, \"html.parser\")\n",
    "            results = soup.find_all(\"div\", class_=\"mw-category-group\")\n",
    "            for job_element in results:\n",
    "                title_element = job_element.find(\"ul\")\n",
    "            item_list.append(title_element)\n",
    "            b = str(item_list[-1]).split(\"\\n\")\n",
    "            words.append(b)\n",
    "            result = re.search('\">(.*)</a></li></ul>', b[-1])\n",
    "            last_word = result.group(1)\n",
    "            a += 1\n",
    "            sleep(2)\n",
    "    except Exception as e:\n",
    "        print(f\"Exception: {e}\")\n",
    "    return words\n",
    "    "
   ]
  },
  {
   "cell_type": "code",
   "execution_count": 21,
   "id": "73dbf2b3-9e76-4d5d-85b4-09bad310f805",
   "metadata": {},
   "outputs": [
    {
     "name": "stdout",
     "output_type": "stream",
     "text": [
      "<Response [200]>\n",
      "<Response [200]>\n",
      "<Response [200]>\n",
      "<Response [200]>\n",
      "<Response [200]>\n",
      "<Response [200]>\n",
      "<Response [200]>\n",
      "<Response [200]>\n",
      "<Response [200]>\n",
      "<Response [200]>\n",
      "<Response [200]>\n",
      "<Response [200]>\n",
      "<Response [200]>\n",
      "<Response [200]>\n",
      "<Response [200]>\n",
      "<Response [200]>\n",
      "<Response [200]>\n",
      "<Response [200]>\n",
      "<Response [200]>\n",
      "<Response [200]>\n",
      "<Response [200]>\n",
      "<Response [200]>\n",
      "<Response [200]>\n",
      "<Response [200]>\n",
      "<Response [200]>\n",
      "<Response [200]>\n",
      "<Response [200]>\n",
      "<Response [200]>\n",
      "<Response [200]>\n",
      "<Response [200]>\n",
      "<Response [200]>\n",
      "<Response [200]>\n",
      "<Response [200]>\n",
      "<Response [200]>\n",
      "<Response [200]>\n",
      "<Response [200]>\n",
      "<Response [200]>\n",
      "<Response [200]>\n",
      "<Response [200]>\n",
      "<Response [200]>\n",
      "<Response [200]>\n",
      "<Response [200]>\n",
      "<Response [200]>\n",
      "<Response [200]>\n",
      "<Response [200]>\n",
      "<Response [200]>\n",
      "<Response [200]>\n",
      "<Response [200]>\n",
      "<Response [200]>\n",
      "<Response [200]>\n",
      "<Response [200]>\n",
      "<Response [200]>\n",
      "<Response [200]>\n",
      "<Response [200]>\n",
      "<Response [200]>\n",
      "<Response [200]>\n",
      "<Response [200]>\n",
      "<Response [200]>\n",
      "<Response [200]>\n",
      "<Response [200]>\n",
      "<Response [200]>\n",
      "<Response [200]>\n",
      "<Response [200]>\n",
      "<Response [200]>\n",
      "<Response [200]>\n",
      "<Response [200]>\n",
      "<Response [200]>\n",
      "<Response [200]>\n",
      "<Response [200]>\n",
      "<Response [200]>\n",
      "<Response [200]>\n",
      "<Response [200]>\n",
      "<Response [200]>\n",
      "<Response [200]>\n",
      "<Response [200]>\n",
      "<Response [200]>\n",
      "<Response [200]>\n",
      "<Response [200]>\n",
      "<Response [200]>\n",
      "<Response [200]>\n",
      "<Response [200]>\n",
      "<Response [200]>\n",
      "<Response [200]>\n",
      "<Response [200]>\n",
      "<Response [200]>\n",
      "<Response [200]>\n",
      "<Response [200]>\n",
      "<Response [200]>\n",
      "<Response [200]>\n",
      "<Response [200]>\n",
      "<Response [200]>\n",
      "<Response [200]>\n",
      "<Response [200]>\n",
      "<Response [200]>\n",
      "<Response [200]>\n",
      "<Response [200]>\n",
      "<Response [200]>\n",
      "<Response [200]>\n",
      "<Response [200]>\n",
      "<Response [200]>\n",
      "<Response [200]>\n",
      "<Response [200]>\n",
      "<Response [200]>\n",
      "<Response [200]>\n",
      "<Response [200]>\n",
      "<Response [200]>\n",
      "<Response [200]>\n",
      "<Response [200]>\n",
      "<Response [200]>\n",
      "<Response [200]>\n",
      "<Response [200]>\n",
      "<Response [200]>\n"
     ]
    }
   ],
   "source": [
    "a = f()"
   ]
  },
  {
   "cell_type": "code",
   "execution_count": 22,
   "id": "4c373b0d-6772-432b-8b8c-471477c0b2d8",
   "metadata": {},
   "outputs": [
    {
     "name": "stdout",
     "output_type": "stream",
     "text": [
      "15524\n"
     ]
    }
   ],
   "source": [
    "slownik = []\n",
    "\n",
    "for page in a:\n",
    "    for line in page:\n",
    "        result = re.search('\">(.*)</a></li>', line)\n",
    "        if result.group(1)[0].isupper():\n",
    "            pass\n",
    "        elif \" \" in result.group(1):\n",
    "            pass\n",
    "        else:\n",
    "            slownik.append(result.group(1))\n",
    "print(len(slownik))"
   ]
  },
  {
   "cell_type": "code",
   "execution_count": 23,
   "id": "067f672f-00ce-4122-87f8-cff219b9b120",
   "metadata": {},
   "outputs": [],
   "source": [
    "with open('rzeczowniki_rm.txt', mode='a', encoding='utf-8') as myfile:\n",
    "    myfile.write('\\n'.join(slownik))"
   ]
  },
  {
   "cell_type": "code",
   "execution_count": null,
   "id": "a4dafa5b-9eb5-42c3-9828-87ed02fdb210",
   "metadata": {},
   "outputs": [],
   "source": []
  }
 ],
 "metadata": {
  "kernelspec": {
   "display_name": "Python 3.10.8 ('.venv': venv)",
   "language": "python",
   "name": "python3"
  },
  "language_info": {
   "codemirror_mode": {
    "name": "ipython",
    "version": 3
   },
   "file_extension": ".py",
   "mimetype": "text/x-python",
   "name": "python",
   "nbconvert_exporter": "python",
   "pygments_lexer": "ipython3",
   "version": "3.10.8"
  },
  "vscode": {
   "interpreter": {
    "hash": "b542a679ef0fd142dc33aafc240d9c7260d9f0261a874d11b4a05824af896266"
   }
  }
 },
 "nbformat": 4,
 "nbformat_minor": 5
}
