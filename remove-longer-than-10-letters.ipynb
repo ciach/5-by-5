{
 "cells": [
  {
   "cell_type": "code",
   "execution_count": 1,
   "metadata": {},
   "outputs": [],
   "source": [
    "import shutil\n",
    "\n",
    "def filter_words_from_file(filename):\n",
    "    # Step 1: Create a backup\n",
    "    backup_filename = f\"{filename}.backup\"\n",
    "    shutil.copy2(filename, backup_filename)\n",
    "    \n",
    "    # Step 2: Read the file and filter out words longer than 10 letters\n",
    "    with open(filename, 'r') as file:\n",
    "        filtered_words = [word.strip() for word in file if len(word.strip()) <= 10]\n",
    "\n",
    "    # Step 3: Write the filtered words back to the original file\n",
    "    with open(filename, 'w') as file:\n",
    "        file.write('\\n'.join(filtered_words))\n",
    "\n",
    "# Usage\n",
    "filename = 'dict.txt'  # Replace with the path to your dictionary file\n",
    "filter_words_from_file(filename)\n"
   ]
  },
  {
   "cell_type": "code",
   "execution_count": null,
   "metadata": {},
   "outputs": [],
   "source": []
  }
 ],
 "metadata": {
  "kernelspec": {
   "display_name": ".venv",
   "language": "python",
   "name": "python3"
  },
  "language_info": {
   "codemirror_mode": {
    "name": "ipython",
    "version": 3
   },
   "file_extension": ".py",
   "mimetype": "text/x-python",
   "name": "python",
   "nbconvert_exporter": "python",
   "pygments_lexer": "ipython3",
   "version": "3.11.6"
  },
  "orig_nbformat": 4
 },
 "nbformat": 4,
 "nbformat_minor": 2
}
