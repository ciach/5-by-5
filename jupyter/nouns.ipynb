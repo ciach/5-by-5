{
 "cells": [
  {
   "cell_type": "code",
   "execution_count": 1,
   "metadata": {},
   "outputs": [
    {
     "name": "stderr",
     "output_type": "stream",
     "text": [
      "[nltk_data] Downloading package wordnet to /home/cielak/nltk_data...\n"
     ]
    },
    {
     "data": {
      "text/plain": [
       "True"
      ]
     },
     "execution_count": 1,
     "metadata": {},
     "output_type": "execute_result"
    }
   ],
   "source": [
    "import nltk\n",
    "nltk.download('wordnet')\n"
   ]
  },
  {
   "cell_type": "code",
   "execution_count": 2,
   "metadata": {},
   "outputs": [],
   "source": [
    "from nltk.corpus import wordnet as wn\n",
    "\n",
    "nouns = {x.name().split('.', 1)[0] for x in wn.all_synsets('n')}\n",
    "singular_nouns = {word for word in nouns if not wn.synsets(word, 'n') or wn.synsets(word, 'n')[0].lemmas()[0].name() == word}\n",
    "\n",
    "with open('singular_nouns.txt', 'w') as file:\n",
    "    for noun in singular_nouns:\n",
    "        file.write(f\"{noun}\\n\")\n"
   ]
  },
  {
   "cell_type": "code",
   "execution_count": 3,
   "metadata": {},
   "outputs": [],
   "source": [
    "from nltk.corpus import wordnet as wn\n",
    "\n",
    "nouns = {x.name().split('.', 1)[0] for x in wn.all_synsets('n')}\n",
    "singular_nouns = {word for word in nouns if not wn.synsets(word, 'n') or wn.synsets(word, 'n')[0].lemmas()[0].name() == word}\n",
    "\n",
    "# Exclude words with underscore or hyphen\n",
    "filtered_nouns = {word for word in singular_nouns if \"_\" not in word and \"-\" not in word}\n",
    "\n",
    "with open('filtered_singular_nouns.txt', 'w') as file:\n",
    "    for noun in filtered_nouns:\n",
    "        file.write(f\"{noun}\\n\")\n"
   ]
  },
  {
   "cell_type": "code",
   "execution_count": null,
   "metadata": {},
   "outputs": [],
   "source": []
  }
 ],
 "metadata": {
  "kernelspec": {
   "display_name": ".venv",
   "language": "python",
   "name": "python3"
  },
  "language_info": {
   "codemirror_mode": {
    "name": "ipython",
    "version": 3
   },
   "file_extension": ".py",
   "mimetype": "text/x-python",
   "name": "python",
   "nbconvert_exporter": "python",
   "pygments_lexer": "ipython3",
   "version": "3.11.4"
  },
  "orig_nbformat": 4
 },
 "nbformat": 4,
 "nbformat_minor": 2
}
